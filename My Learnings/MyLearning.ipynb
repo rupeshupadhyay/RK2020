{
 "metadata": {
  "language_info": {
   "codemirror_mode": {
    "name": "ipython",
    "version": 3
   },
   "file_extension": ".py",
   "mimetype": "text/x-python",
   "name": "python",
   "nbconvert_exporter": "python",
   "pygments_lexer": "ipython3",
   "version": 3
  },
  "orig_nbformat": 2
 },
 "nbformat": 4,
 "nbformat_minor": 2,
 "cells": [
  {
   "cell_type": "code",
   "execution_count": null,
   "metadata": {},
   "outputs": [],
   "source": [
    "#In the Microsoft Azure portal, create a new Machine Learning resource, specifying the subscription, resource group and workspace name.\n",
    "#the following code creates a workspace named aml-workspace (assuming the Azure ML SDK for Python is installed and a valid subscription ID is specified):\n",
    "from azureml.core import Workspace\n",
    "    \n",
    "    ws = Workspace.create(name='aml-workspace', \n",
    "                      subscription_id='123456-abc-123...',\n",
    "                      resource_group='aml-resources',\n",
    "                      create_resource_group=True,\n",
    "                      location='eastus'\n",
    "                     )\n",
    "\n",
    "                     "
   ]
  }
 ]
}